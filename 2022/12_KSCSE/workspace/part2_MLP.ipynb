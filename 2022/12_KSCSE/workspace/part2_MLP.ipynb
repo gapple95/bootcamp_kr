{
 "cells": [
  {
   "cell_type": "markdown",
   "metadata": {
    "id": "YjDiF97VlnqF"
   },
   "source": [
    " <img src=\"https://www.nvidia.com/content/dam/en-zz/Solutions/about-nvidia/logo-and-brand/01-nvidia-logo-horiz-500x200-2c50-d@2x.png\" width=300>\n",
    " \n",
    "# 계산과학공학회 인공지능 겨울학교 2022\n",
    "# [KSCSE](http://www.cse.or.kr/) 2022  GPU Tutorial  @ High1\n",
    "# Day1 - Introducion to AI \n",
    "by Hyungon Ryu | NVAITC(NVIDIA AI Tech. Center)  Korea \n"
   ]
  },
  {
   "cell_type": "markdown",
   "metadata": {
    "id": "OBf5KF3BLLfI"
   },
   "source": [
    "![](http://www.cse.or.kr/assets/img/logo_cse.png)"
   ]
  },
  {
   "cell_type": "markdown",
   "metadata": {
    "id": "QkWIAmaHmFX-"
   },
   "source": [
    "# Part 2 -  CNN Primer and Keras  "
   ]
  },
  {
   "cell_type": "markdown",
   "metadata": {
    "id": "EMMymXtxlrME"
   },
   "source": [
    "\n",
    "<br>\n",
    "In this notebook you will be introduced to the concept of a convolutional neural network (CNN) and implement one using Keras. This notebook is designed as a starting point for absolute beginners to deep learning.\n",
    "\n",
    "In this notebook you will be introduced to the concept of a convolutional neural network (CNN) and implement one using Keras. This notebook is designed as a starting point for absolute beginners to deep learning.\n",
    "\n",
    "### Contents of this notebook:\n",
    "\n",
    " - How a deep learning project is planned\n",
    " - Wrapping things up with an example (classification)\n",
    "  - Fully connected networks\n",
    "\n",
    "### By the end of this notebook the participant will:\n",
    "\n",
    " - Understand machine learning pipelines\n",
    " - Write a deep learning classifier and train it\n",
    "\n",
    "\n",
    "## Machine Learning Pipeline\n",
    "During the bootcamp we will be making use of the following concepts to help us understand how a machine learning (ML) project should be planned and executed:\n",
    "\n",
    " 1. <B>Data</B>: To start any ML project we need data which is pre-processed and can be fed into the network.\n",
    " 2. <B>Task</B>: There are many possible tasks in the field of ML; we need to make sure we understand and define the problem statement accurately.\n",
    " 3. <B>Model</B>: We need to build our model, which is neither too deep (requiring a lot of computational power) nor too small (preventing it from learning the important features).\n",
    " 4. <B>Loss</B>: Out of the many loss functions that can be defined, we need to carefully choose one which is suitable for the task we are about to carry out.\n",
    " 5. <B>Learning</B>: There are a variety of optimisers, each with their advantages and disadvantages. We must choose one which is suitable for our task and train our model using some suitably chosen hyperparameters.\n",
    " 6. <B>Evaluation</B>: We must determine if our model has learned the features properly by analysing how it performs on data it has not previously seen."
   ]
  },
  {
   "cell_type": "markdown",
   "metadata": {
    "id": "3WC1OZ8DFQH6"
   },
   "source": [
    "### Step by Step  DL training "
   ]
  },
  {
   "cell_type": "markdown",
   "metadata": {
    "id": "4r0RmkyApyys"
   },
   "source": []
  },
  {
   "cell_type": "markdown",
   "metadata": {
    "id": "zgNvk7xUFQH6"
   },
   "source": [
    "#### load keras module"
   ]
  },
  {
   "cell_type": "code",
   "execution_count": null,
   "metadata": {
    "colab": {
     "base_uri": "https://localhost:8080/"
    },
    "id": "A58mzgX-FQH7",
    "outputId": "12b69aa7-09e2-4ae6-df43-dcc368280c4c"
   },
   "outputs": [],
   "source": [
    "# Import Necessary Libraries\n",
    "\n",
    "from __future__ import absolute_import, division, print_function, unicode_literals\n",
    "\n",
    "# TensorFlow and tf.keras\n",
    "import tensorflow as tf\n",
    "from tensorflow import keras\n",
    "\n",
    "# Helper libraries\n",
    "import numpy as np\n",
    "import matplotlib.pyplot as plt\n",
    "\n",
    "print(tf.__version__)"
   ]
  },
  {
   "cell_type": "markdown",
   "metadata": {
    "id": "frwMcVSXlp-S"
   },
   "source": []
  },
  {
   "cell_type": "markdown",
   "metadata": {
    "id": "iVyIYbizFQH8"
   },
   "source": [
    "#### prepare MNIST dataset"
   ]
  },
  {
   "cell_type": "markdown",
   "metadata": {
    "id": "PIEpzJJUlMrl"
   },
   "source": [
    "The MNIST database of handwritten digits, available from this page, has a training set of 60,000 examples, and a test set of 10,000 examples. It is a subset of a larger set available from NIST. The digits have been size-normalized and centered in a fixed-size image.\n",
    "\n",
    "![](https://storage.googleapis.com/tfds-data/visualization/fig/mnist-3.0.1.png)"
   ]
  },
  {
   "cell_type": "markdown",
   "metadata": {
    "id": "PHCc32JEKCOo"
   },
   "source": [
    "Loading the dataset returns four NumPy arrays:\n",
    "\n",
    "The `x_train` and `y_train` arrays are the training set—the data the model uses to learn.\n",
    "The model is tested against the test set, the `x_test`, and `y_test` arrays."
   ]
  },
  {
   "cell_type": "code",
   "execution_count": null,
   "metadata": {
    "id": "9OYGZ3pwFQH9"
   },
   "outputs": [],
   "source": [
    "from tensorflow.keras.datasets import mnist"
   ]
  },
  {
   "cell_type": "code",
   "execution_count": null,
   "metadata": {
    "id": "isCcLczIFQH9"
   },
   "outputs": [],
   "source": [
    "# the data, split between train and validation sets\n",
    "(x_train, y_train), (x_valid, y_valid) = mnist.load_data()"
   ]
  },
  {
   "cell_type": "markdown",
   "metadata": {
    "id": "zOsSKTG9KAec"
   },
   "source": []
  },
  {
   "cell_type": "markdown",
   "metadata": {
    "id": "GWuChP36FQH-"
   },
   "source": [
    "#### Understanding the Data"
   ]
  },
  {
   "cell_type": "code",
   "execution_count": null,
   "metadata": {
    "colab": {
     "base_uri": "https://localhost:8080/"
    },
    "id": "3pQ9tmHNFQH-",
    "outputId": "06814142-0f97-48b7-9cce-bc7f1bcffd6a"
   },
   "outputs": [],
   "source": [
    "# Print array size of training dataset\n",
    "print(\"Size of Training Images: \" + str(x_train.shape))\n",
    "# Print array size of labels\n",
    "print(\"Size of Training Labels: \" + str(y_train.shape))\n",
    "\n",
    "# Let's see how our outputs look\n",
    "print(\"Training Set Labels: \" + str(y_train))\n"
   ]
  },
  {
   "cell_type": "code",
   "execution_count": null,
   "metadata": {
    "id": "xGh0meGVFQH_"
   },
   "outputs": [],
   "source": [
    "class_names = ['0', '1', '2', '3', '4', '5', '6', '7', '8', '9']"
   ]
  },
  {
   "cell_type": "code",
   "execution_count": null,
   "metadata": {
    "colab": {
     "base_uri": "https://localhost:8080/",
     "height": 282
    },
    "id": "TL_ObnPvFQIA",
    "outputId": "8960b950-4c36-4d08-986b-5255ce781dc3"
   },
   "outputs": [],
   "source": [
    "import matplotlib.pyplot as plt\n",
    "image = x_train[0]\n",
    "plt.imshow(image, cmap='gray')"
   ]
  },
  {
   "cell_type": "code",
   "execution_count": null,
   "metadata": {
    "colab": {
     "base_uri": "https://localhost:8080/",
     "height": 589
    },
    "id": "gZvyGSv5FQIA",
    "outputId": "5af71098-624a-4adc-ff03-657b2010d8c8"
   },
   "outputs": [],
   "source": [
    "# Let's print to verify whether the data is of the correct format.\n",
    "plt.figure(figsize=(10,10))\n",
    "for i in range(25):\n",
    "    plt.subplot(5,5,i+1)\n",
    "    plt.xticks([])\n",
    "    plt.yticks([])\n",
    "    plt.grid(False)\n",
    "    plt.imshow(x_train[i], cmap=plt.cm.binary)\n",
    "    plt.xlabel(class_names[y_train[i]])\n",
    "plt.show()"
   ]
  },
  {
   "cell_type": "markdown",
   "metadata": {
    "id": "9GievdQcFQIA"
   },
   "source": [
    "#### Data Preprocessing\n",
    " 1d input\n",
    " for simplicity, flatting the 2D input to 1D array with `reshape` function"
   ]
  },
  {
   "cell_type": "code",
   "execution_count": null,
   "metadata": {
    "id": "PNv3tawJFQIB"
   },
   "outputs": [],
   "source": [
    "x_train = x_train.reshape(60000, 784) # 28x28 = 784\n",
    "x_valid = x_valid.reshape(10000, 784)"
   ]
  },
  {
   "cell_type": "code",
   "execution_count": null,
   "metadata": {
    "colab": {
     "base_uri": "https://localhost:8080/"
    },
    "id": "rp0w4u1hFQIB",
    "outputId": "7ad55943-8244-4b21-a07a-ed96448319f5"
   },
   "outputs": [],
   "source": [
    "print(x_train.shape)"
   ]
  },
  {
   "cell_type": "markdown",
   "metadata": {
    "id": "3GiLlHBqJ9bu"
   },
   "source": [
    "The image pixel values range from 0 to 255. Let us now normalise the data range from 0 - 255 to 0 - 1 in both the Train and Test set. This normalisation of pixels helps us by optimizing the process where the gradients are computed."
   ]
  },
  {
   "cell_type": "code",
   "execution_count": null,
   "metadata": {
    "id": "P1CWUGgvFQIB"
   },
   "outputs": [],
   "source": [
    "x_train = x_train / 255\n",
    "x_valid = x_valid / 255 "
   ]
  },
  {
   "cell_type": "code",
   "execution_count": null,
   "metadata": {
    "id": "cMazxasLFQIB"
   },
   "outputs": [],
   "source": [
    "import tensorflow.keras as keras\n",
    "num_categories = 10\n",
    "\n",
    "#y_train = keras.utils.to_categorical(y_train, num_categories)\n",
    "#y_valid = keras.utils.to_categorical(y_valid, num_categories)"
   ]
  },
  {
   "cell_type": "markdown",
   "metadata": {
    "id": "p5yz2PoenQH9"
   },
   "source": []
  },
  {
   "cell_type": "markdown",
   "metadata": {
    "id": "J40gkff3nQrv"
   },
   "source": [
    "# Building a Neuron\n",
    "\n",
    "Neurons are the fundamental building blocks to a neural network. Just like how biological neurons send an electrical impulse under specific stimuli, artificial neural networks similarly result in a numerical output with a given numerical input.\n",
    "\n",
    "We can break down building a neuron into 3 steps:\n",
    "\n",
    " - Defining the architecture\n",
    " - Intiating training ( compile)\n",
    " - Evaluating the model\n",
    "\n",
    "![](https://camo.githubusercontent.com/b1cabba25cf7982d07a2a8ad60f344a0a69b463a75896d03c0e05ee02253a3bc/68747470733a2f2f75706c6f61642e77696b696d656469612e6f72672f77696b6970656469612f636f6d6d6f6e732f7468756d622f312f31302f426c617573656e5f303635375f4d756c7469706f6c61724e6575726f6e2e706e672f35313270782d426c617573656e5f303635375f4d756c7469706f6c61724e6575726f6e2e706e67)"
   ]
  },
  {
   "cell_type": "markdown",
   "metadata": {
    "id": "2kYVKLIzngkr"
   },
   "source": [
    "Image courtesy of Wikimedia Commons\n",
    "\n",
    "Biological neurons transmit information with a mechanism similar to Morse Code. It receives electrical signals through the dendrites, and under the right conditions, sends an electrical impulse down the axon and out through the terminals.\n",
    "\n",
    "It is theorized the sequence and timing of these impulses play a large part of how information travels through the brain. Most artificial neural networks have yet to capture this timing aspect of biological neurons, and instead emulate the phenomenon with simpler mathematical formulas."
   ]
  },
  {
   "cell_type": "markdown",
   "metadata": {
    "id": "ElNKqjutnlt-"
   },
   "source": [
    "# The Math\n",
    "Computers are built with discrete 0s and 1s whereas humans and animals are built on more continuous building blocks. Because of this, some of the first neurons attempted to mimic biological neurons with a linear regression function: $y = mx + b$. The $x$ is like information coming in through the dendrites and the $y$ is like the output through the terminals. As the computer guesses more and more answers to the questions we present it, it will update its variables ($m$ and $b$) to better fit the line to the data it has seen.\n",
    "\n",
    "Neurons are often exposed to multivariate data. We're going to build a neuron that takes each pixel value (which is between `0` and `255`), and assign it a weight, which is equivalent to our m. Data scientists often express this weight as w. For example, the first pixel will have a weight of `w0`, the second will have a weight of `w1`, and so on. Our full equation becomes `y = w0x0 + w1x1 + w2x2 + ... + b`. \n",
    "\n",
    "Each image is 28 pixels by 28 pixels, so we will have a total of 784 weights. A pixel value of `0` would be black and a pixel value of `255` would be white. Let's look at the raw pixel values of the previous image we plotted. Each number below will be assigned a weight."
   ]
  },
  {
   "cell_type": "markdown",
   "metadata": {
    "id": "XL8J7DP2FQIC"
   },
   "source": [
    "#### Defining our model"
   ]
  },
  {
   "cell_type": "markdown",
   "metadata": {
    "id": "eI76dD3lJyGu"
   },
   "source": [
    "Our model has three layers:\n",
    "\n",
    " - 784 input features (28 * 28)\n",
    " - 512 nodes in the hidden layer (feel free to experiment with this value)\n",
    " - 512 nodes in the hidden layer (feel free to experiment with this value)\n",
    " - 10 output nodes to denote the class\n",
    "\n",
    "We assume the input is 1d array. the network consists of a sequence of two tf.keras.layers.Dense layers. These are densely connected, or fully connected, neural layers. The first Dense layer has 128 nodes (or neurons). The second (and last) layer is a 10-node softmax layer that returns an array of 10 probability scores that sum to 1. Each node contains a score that indicates the probability that the current image belongs to one of the 10 classes.\n",
    "\n"
   ]
  },
  {
   "cell_type": "code",
   "execution_count": null,
   "metadata": {
    "id": "Xy77kSnyFQIC"
   },
   "outputs": [],
   "source": [
    "from tensorflow.keras.models import Sequential\n",
    "from tensorflow.keras.layers import Dense\n"
   ]
  },
  {
   "cell_type": "code",
   "execution_count": null,
   "metadata": {
    "id": "eCdLz78vFQIC"
   },
   "outputs": [],
   "source": [
    "model = Sequential()"
   ]
  },
  {
   "cell_type": "code",
   "execution_count": null,
   "metadata": {
    "id": "WDImvxPZFQIC"
   },
   "outputs": [],
   "source": [
    "model.add(Dense(units=512, activation='relu', input_shape=(784,)))"
   ]
  },
  {
   "cell_type": "code",
   "execution_count": null,
   "metadata": {
    "colab": {
     "base_uri": "https://localhost:8080/"
    },
    "id": "_6yMRxXRFQID",
    "outputId": "b49c9096-db9c-4f0e-e83a-f66353b429e6"
   },
   "outputs": [],
   "source": [
    "model.summary()"
   ]
  },
  {
   "cell_type": "code",
   "execution_count": null,
   "metadata": {
    "id": "SQwAqmVpFQID"
   },
   "outputs": [],
   "source": [
    "model.add(Dense(units = 512, activation='relu'))"
   ]
  },
  {
   "cell_type": "code",
   "execution_count": null,
   "metadata": {
    "colab": {
     "base_uri": "https://localhost:8080/"
    },
    "id": "HmhfF4RpFQID",
    "outputId": "ba606fa4-5652-4230-a8da-aec1f77e446a"
   },
   "outputs": [],
   "source": [
    "model.summary()"
   ]
  },
  {
   "cell_type": "code",
   "execution_count": null,
   "metadata": {
    "id": "Ql6wnQPbFQID"
   },
   "outputs": [],
   "source": [
    "model.add(Dense(units = 10, activation='softmax'))"
   ]
  },
  {
   "cell_type": "code",
   "execution_count": null,
   "metadata": {
    "colab": {
     "base_uri": "https://localhost:8080/"
    },
    "id": "3BRPCIUsFQIE",
    "outputId": "c0ee6434-bf16-4847-ea62-4271d2b3a265"
   },
   "outputs": [],
   "source": [
    "model.summary()"
   ]
  },
  {
   "cell_type": "markdown",
   "metadata": {
    "id": "aLceI26UFQIE"
   },
   "source": [
    "#### Compile the model"
   ]
  },
  {
   "cell_type": "markdown",
   "metadata": {
    "id": "06vsrlT5J1FZ"
   },
   "source": [
    "\n",
    "Before the model is ready for training, it needs a few more settings. These are added during the model's compile step:\n",
    "\n",
    " - <B>Loss function</B> —This measures how accurate the model is during training. You want to minimize this function to \"steer\" the model in the right direction. See KERAS's [loss functions](https://keras.io/api/losses/) section\n",
    " - <B>Optimizer</B> —This is how the model is updated based on the data it sees and its loss function. See Keras [Optimizer](https://keras.io/api/optimizers/) Section\n",
    " - <B>Metrics</B> —Used to monitor the training and testing steps. The following example uses accuracy, the fraction of the images that are correctly classified. See Keras's [Metrics](https://keras.io/api/metrics/) section"
   ]
  },
  {
   "cell_type": "code",
   "execution_count": null,
   "metadata": {
    "id": "KJwB0YkVFQIE"
   },
   "outputs": [],
   "source": [
    "model.compile(optimizer='adam', \n",
    "              loss='sparse_categorical_crossentropy', \n",
    "              metrics=['accuracy'])"
   ]
  },
  {
   "cell_type": "markdown",
   "metadata": {
    "id": "AOmIu4FZm5-j"
   },
   "source": [
    "In this case, we're going to use a type of function specific to classification called SparseCategoricalCrossentropy:\n",
    "\n",
    " - Sparse - for this function, it refers to how our label is an integer index for our categories\n",
    " - Categorical - this function was made for classification\n",
    " - Cross-entropy - the more confident our model is when it makes an incorrect guess, the worse its score will be. If a model is 100% confident when it is wrong, it will have a score of negative infinity!\n",
    "from_logits - the linear output will be transformed into a probability which can be interpreted as the model's confidence that a particular category is the correct one for the given input."
   ]
  },
  {
   "cell_type": "markdown",
   "metadata": {
    "id": "ntenxOoeFQIE"
   },
   "source": [
    "#### train the model"
   ]
  },
  {
   "cell_type": "markdown",
   "metadata": {
    "id": "-5wACpZiMQ0y"
   },
   "source": [
    "Training the neural network model requires the following steps:\n",
    "\n",
    " 1. Feed the training data to the model. In this example, the training data is in the `x_train`  and `y_train` arrays.\n",
    " 2. The model learns to associate images and labels.\n",
    " 3. You ask the model to make predictions about a test set—in this example, the   `x_test` array. Verify that the predictions match the labels from the `y_test` array.\n",
    " To start training, call the model.fit method—so called because it \"fits\" the model to the training data:"
   ]
  },
  {
   "cell_type": "code",
   "execution_count": null,
   "metadata": {
    "colab": {
     "base_uri": "https://localhost:8080/"
    },
    "id": "tSlixpWQFQIE",
    "outputId": "86bc095d-9e16-4f8a-f983-e530ccaec072"
   },
   "outputs": [],
   "source": [
    "hist = model.fit(\n",
    "    x_train, y_train, epochs=5, verbose=1\n",
    ")"
   ]
  },
  {
   "cell_type": "code",
   "execution_count": null,
   "metadata": {
    "colab": {
     "base_uri": "https://localhost:8080/",
     "height": 282
    },
    "id": "oZc_8PS7FQIE",
    "outputId": "24961d08-2a1e-42f4-ce2d-fa3053ae421b"
   },
   "outputs": [],
   "source": [
    "plt.plot(hist.history['loss'])"
   ]
  },
  {
   "cell_type": "markdown",
   "metadata": {
    "id": "nUjKq6YCFQIF"
   },
   "source": [
    "#### Evaluate accuracy"
   ]
  },
  {
   "cell_type": "markdown",
   "metadata": {
    "id": "PKIZvQrRNKxf"
   },
   "source": [
    "Next, compare how the model performs on the test dataset:"
   ]
  },
  {
   "cell_type": "code",
   "execution_count": null,
   "metadata": {
    "colab": {
     "base_uri": "https://localhost:8080/"
    },
    "id": "iLWr_AQxFQIF",
    "outputId": "20a7c639-a95b-4ed9-ef63-eb2ab6c0c9d4"
   },
   "outputs": [],
   "source": [
    "test_loss, test_acc = model.evaluate(x_valid,  y_valid, verbose=2)"
   ]
  },
  {
   "cell_type": "markdown",
   "metadata": {
    "id": "LWciS8N6NR4I"
   },
   "source": [
    "We get an accuracy of 97% on the test dataset, which is less than the 98.9% we got during the training phase. This problem in machine learning is called overfitting."
   ]
  },
  {
   "cell_type": "code",
   "execution_count": null,
   "metadata": {
    "colab": {
     "base_uri": "https://localhost:8080/"
    },
    "id": "7_S7kIPAFQIF",
    "outputId": "08ecf463-a621-4d75-8752-2e55a5d9a8af"
   },
   "outputs": [],
   "source": [
    "# Making predictions from the test_images\n",
    "\n",
    "predictions = model.predict(x_valid)"
   ]
  },
  {
   "cell_type": "code",
   "execution_count": null,
   "metadata": {
    "id": "K8s_E3wGFQIF"
   },
   "outputs": [],
   "source": [
    "# Reshape input data from (28, 28) to (28, 28, 1)\n",
    "w, h = 28, 28\n",
    "x_train = x_train.reshape(x_train.shape[0], w, h)\n",
    "x_valid = x_valid.reshape(x_valid.shape[0], w, h)\n",
    "\n",
    "\n",
    "# Helper functions to plot images \n",
    "def plot_image(i, predictions_array, true_label, img):\n",
    "  predictions_array, true_label, img = predictions_array, true_label[i], img[i]\n",
    "  plt.grid(False)\n",
    "  plt.xticks([])\n",
    "  plt.yticks([])\n",
    "\n",
    "  plt.imshow(img, cmap=plt.cm.binary)\n",
    "\n",
    "  predicted_label = np.argmax(predictions_array)\n",
    "  if predicted_label == true_label:\n",
    "    color = 'blue'\n",
    "  else:\n",
    "    color = 'red'\n",
    "\n",
    "  plt.xlabel(\"{} {:2.0f}% ({})\".format(class_names[predicted_label],\n",
    "                                100*np.max(predictions_array),\n",
    "                                class_names[true_label]),\n",
    "                                color=color)\n",
    "\n",
    "def plot_value_array(i, predictions_array, true_label):\n",
    "  predictions_array, true_label = predictions_array, true_label[i]\n",
    "  plt.grid(False)\n",
    "  plt.xticks(range(10))\n",
    "  plt.yticks([])\n",
    "  thisplot = plt.bar(range(10), predictions_array, color=\"#777777\")\n",
    "  plt.ylim([0, 1])\n",
    "  predicted_label = np.argmax(predictions_array)\n",
    "\n",
    "  thisplot[predicted_label].set_color('red')\n",
    "  thisplot[true_label].set_color('blue')"
   ]
  },
  {
   "cell_type": "code",
   "execution_count": null,
   "metadata": {
    "colab": {
     "base_uri": "https://localhost:8080/"
    },
    "id": "CFv7CAOWFQIF",
    "outputId": "652af526-3e64-4946-c952-163a43857077"
   },
   "outputs": [],
   "source": [
    "# Plot the first X test images, their predicted labels, and the true labels.\n",
    "# Color correct predictions in blue and incorrect predictions in red.\n",
    "num_rows = 5\n",
    "num_cols = 3\n",
    "num_images = num_rows*num_cols\n",
    "plt.figure(figsize=(2*2*num_cols, 2*num_rows))\n",
    "for i in range(num_images):\n",
    "  plt.subplot(num_rows, 2*num_cols, 2*i+1)\n",
    "  plot_image(i, predictions[i], y_valid, x_valid)\n",
    "  plt.subplot(num_rows, 2*num_cols, 2*i+2)\n",
    "  plot_value_array(i, predictions[i], y_valid)\n",
    "plt.tight_layout()\n",
    "plt.show()"
   ]
  },
  {
   "cell_type": "markdown",
   "metadata": {
    "id": "s2Z-Hlb_FQIG"
   },
   "source": [
    "## one hot encoding"
   ]
  },
  {
   "cell_type": "code",
   "execution_count": null,
   "metadata": {
    "id": "0qQf27_LFQIG"
   },
   "outputs": [],
   "source": [
    "from tensorflow.keras.datasets import mnist"
   ]
  },
  {
   "cell_type": "code",
   "execution_count": null,
   "metadata": {
    "id": "kd3Z0J7uFQIG"
   },
   "outputs": [],
   "source": [
    "# the data, split between train and validation sets\n",
    "(x_train, y_train), (x_valid, y_valid) = mnist.load_data()"
   ]
  },
  {
   "cell_type": "code",
   "execution_count": null,
   "metadata": {
    "id": "OO8zWhcsFQIG"
   },
   "outputs": [],
   "source": [
    "x_train = x_train.reshape(60000, 784)\n",
    "x_valid = x_valid.reshape(10000, 784)"
   ]
  },
  {
   "cell_type": "code",
   "execution_count": null,
   "metadata": {
    "id": "oXNvbjFEFQIG"
   },
   "outputs": [],
   "source": [
    "x_train = x_train / 255\n",
    "x_valid = x_valid / 255 "
   ]
  },
  {
   "cell_type": "code",
   "execution_count": null,
   "metadata": {
    "id": "gvKRAfmuFQIG"
   },
   "outputs": [],
   "source": [
    "import tensorflow.keras as keras\n",
    "num_categories = 10\n",
    "\n",
    "y_train = keras.utils.to_categorical(y_train, num_categories)\n",
    "y_valid_org = y_valid\n",
    "y_valid = keras.utils.to_categorical(y_valid, num_categories)"
   ]
  },
  {
   "cell_type": "code",
   "execution_count": null,
   "metadata": {
    "id": "gXD11QfvFQIG"
   },
   "outputs": [],
   "source": [
    "from tensorflow.keras.models import Sequential\n",
    "from tensorflow.keras.layers import Dense"
   ]
  },
  {
   "cell_type": "code",
   "execution_count": null,
   "metadata": {
    "id": "HCCIvUesFQIG"
   },
   "outputs": [],
   "source": [
    "model = Sequential()"
   ]
  },
  {
   "cell_type": "code",
   "execution_count": null,
   "metadata": {
    "id": "GZMbbjUmFQIH"
   },
   "outputs": [],
   "source": [
    "model.add(Dense(units=512, activation='relu', input_shape=(784,)))\n",
    "model.add(Dense(units = 512, activation='relu'))\n",
    "model.add(Dense(units = 10, activation='softmax'))"
   ]
  },
  {
   "cell_type": "code",
   "execution_count": null,
   "metadata": {
    "colab": {
     "base_uri": "https://localhost:8080/"
    },
    "id": "HsFybNFtFQIH",
    "outputId": "90a7ca76-e668-49ec-8e4e-565df5935f41"
   },
   "outputs": [],
   "source": [
    "model.summary()"
   ]
  },
  {
   "cell_type": "code",
   "execution_count": null,
   "metadata": {
    "id": "eAp4ifrIFQIH"
   },
   "outputs": [],
   "source": [
    "model.compile(optimizer='adam', loss='categorical_crossentropy', metrics=['accuracy'])"
   ]
  },
  {
   "cell_type": "code",
   "execution_count": null,
   "metadata": {
    "colab": {
     "base_uri": "https://localhost:8080/"
    },
    "id": "HN5Tr1sIFQIH",
    "outputId": "a9709a1b-f15c-4520-b236-9d2e84a6af13"
   },
   "outputs": [],
   "source": [
    "hist = model.fit(\n",
    "    x_train, y_train, epochs=5, verbose=1\n",
    ")"
   ]
  },
  {
   "cell_type": "code",
   "execution_count": null,
   "metadata": {
    "colab": {
     "base_uri": "https://localhost:8080/"
    },
    "id": "cu4hfwqxFQIH",
    "outputId": "f3ce93ac-8aab-4bdc-e83d-7c13dd713df3"
   },
   "outputs": [],
   "source": [
    "plt.plot(hist.history['loss'])"
   ]
  },
  {
   "cell_type": "code",
   "execution_count": null,
   "metadata": {
    "colab": {
     "base_uri": "https://localhost:8080/"
    },
    "id": "CpKxFDdQFQIH",
    "outputId": "0fbb18a3-d220-423f-b9c9-a1a89add4ace"
   },
   "outputs": [],
   "source": [
    "test_loss, test_acc = model.evaluate(x_valid,  y_valid, verbose=2)"
   ]
  },
  {
   "cell_type": "code",
   "execution_count": null,
   "metadata": {
    "colab": {
     "base_uri": "https://localhost:8080/"
    },
    "id": "PZwM1xo5FQII",
    "outputId": "74966e8e-4e09-443a-f8a8-fd7976c01d7b"
   },
   "outputs": [],
   "source": [
    "# Making predictions from the test_images\n",
    "\n",
    "predictions = model.predict(x_valid)"
   ]
  },
  {
   "cell_type": "code",
   "execution_count": null,
   "metadata": {
    "id": "mopII2WzFQII"
   },
   "outputs": [],
   "source": [
    "# Reshape input data from (28, 28) to (28, 28, 1)\n",
    "w, h = 28, 28\n",
    "x_train = x_train.reshape(x_train.shape[0], w, h)\n",
    "x_valid = x_valid.reshape(x_valid.shape[0], w, h)\n",
    "\n",
    "\n",
    "# Helper functions to plot images \n",
    "def plot_image(i, predictions_array, true_label, img):\n",
    "  predictions_array, true_label, img = predictions_array, true_label[i], img[i]\n",
    "  plt.grid(False)\n",
    "  plt.xticks([])\n",
    "  plt.yticks([])\n",
    "\n",
    "  plt.imshow(img, cmap=plt.cm.binary)\n",
    "\n",
    "  predicted_label = np.argmax(predictions_array)\n",
    "  if predicted_label == true_label:\n",
    "    color = 'blue'\n",
    "  else:\n",
    "    color = 'red'\n",
    "\n",
    "  plt.xlabel(\"{} {:2.0f}% ({})\".format(class_names[predicted_label],\n",
    "                                100*np.max(predictions_array),\n",
    "                                class_names[true_label]),\n",
    "                                color=color)\n",
    "\n",
    "def plot_value_array(i, predictions_array, true_label):\n",
    "  predictions_array, true_label = predictions_array, true_label[i]\n",
    "  plt.grid(False)\n",
    "  plt.xticks(range(10))\n",
    "  plt.yticks([])\n",
    "  thisplot = plt.bar(range(10), predictions_array, color=\"#777777\")\n",
    "  plt.ylim([0, 1])\n",
    "  predicted_label = np.argmax(predictions_array)\n",
    "\n",
    "  thisplot[predicted_label].set_color('red')\n",
    "  thisplot[true_label].set_color('blue')"
   ]
  },
  {
   "cell_type": "code",
   "execution_count": null,
   "metadata": {
    "colab": {
     "base_uri": "https://localhost:8080/"
    },
    "id": "MrSViRltFQII",
    "outputId": "62180bdc-57a5-45d0-f55e-afb088d27507"
   },
   "outputs": [],
   "source": [
    "# Plot the first X test images, their predicted labels, and the true labels.\n",
    "# Color correct predictions in blue and incorrect predictions in red.\n",
    "num_rows = 5\n",
    "num_cols = 3\n",
    "num_images = num_rows*num_cols\n",
    "plt.figure(figsize=(2*2*num_cols, 2*num_rows))\n",
    "for i in range(num_images):\n",
    "  plt.subplot(num_rows, 2*num_cols, 2*i+1)\n",
    "  plot_image(i, predictions[i], y_valid_org, x_valid) ## no one hot encoding for viz\n",
    "  plt.subplot(num_rows, 2*num_cols, 2*i+2)\n",
    "  plot_value_array(i, predictions[i], y_valid_org)\n",
    "plt.tight_layout()\n",
    "plt.show()"
   ]
  },
  {
   "cell_type": "markdown",
   "metadata": {
    "id": "hPgM_m6eFQII"
   },
   "source": [
    "## same with Fashion MNIST dataset"
   ]
  },
  {
   "cell_type": "markdown",
   "metadata": {
    "id": "hhnc5KDVkypV"
   },
   "source": [
    "## Image classification on types of clothes\n",
    "\n",
    "\n",
    "We will be using the Fashion MNIST dataset, which is a very popular introductory dataset in deep learning. This dataset contains 70,000 grayscale images in 10 categories. The images show individual articles of clothing at low resolution (28 by 28 pixels).\n",
    "\n",
    "![fashin mnist](https://raw.githubusercontent.com/openhackathons-org/gpubootcamp/58e1329572bebc508ba7489a9f9415d7e0592ab8/hpc_ai/ai_science_cfd/English/python/jupyter_notebook/Intro_to_DL/images/fashion-mnist.png)"
   ]
  },
  {
   "cell_type": "markdown",
   "metadata": {
    "id": "nzjkqEQnJAGP"
   },
   "source": []
  },
  {
   "cell_type": "markdown",
   "metadata": {
    "id": "1JmTm3R8FQII"
   },
   "source": [
    "#### prepare dataset"
   ]
  },
  {
   "cell_type": "code",
   "execution_count": null,
   "metadata": {
    "id": "IX214CJ2FQII"
   },
   "outputs": [],
   "source": [
    "# Let's Import the Dataset\n",
    "fashion_mnist = keras.datasets.fashion_mnist\n",
    "\n",
    "(train_images, train_labels), (test_images, test_labels) = fashion_mnist.load_data()"
   ]
  },
  {
   "cell_type": "markdown",
   "metadata": {
    "id": "bz1W08OXJMD6"
   },
   "source": [
    "Loading the dataset returns four NumPy arrays:\n",
    "\n",
    " - The `train_images` and `train_labels` arrays are the training set—the data the model uses to learn.\n",
    " - The model is tested against the test set, the `test_images`, and `test_labels` arrays.\n"
   ]
  },
  {
   "cell_type": "markdown",
   "metadata": {
    "id": "drwtlaIFFQII"
   },
   "source": [
    "#### understand dataset"
   ]
  },
  {
   "cell_type": "code",
   "execution_count": null,
   "metadata": {
    "colab": {
     "base_uri": "https://localhost:8080/"
    },
    "id": "4qAwpUniFQIJ",
    "outputId": "b54f95de-30b8-4f0a-e5e5-e25341856b51"
   },
   "outputs": [],
   "source": [
    "# Print array size of training dataset\n",
    "print(\"Size of Training Images: \" + str(train_images.shape))\n",
    "# Print array size of labels\n",
    "print(\"Size of Training Labels: \" + str(train_labels.shape))\n",
    "\n",
    "# Print array size of test dataset\n",
    "print(\"Size of Test Images: \" + str(test_images.shape))\n",
    "# Print array size of labels\n",
    "print(\"Size of Test Labels: \" + str(test_labels.shape))\n",
    "\n",
    "# Let's see how our outputs look\n",
    "print(\"Training Set Labels: \" + str(train_labels))\n",
    "# Data in the test dataset\n",
    "print(\"Test Set Labels: \" + str(test_labels))"
   ]
  },
  {
   "cell_type": "code",
   "execution_count": null,
   "metadata": {
    "colab": {
     "base_uri": "https://localhost:8080/"
    },
    "id": "t_RAdn9tFQIJ",
    "outputId": "b93c6df2-c58a-4538-d5e6-06523f275170"
   },
   "outputs": [],
   "source": [
    "plt.figure()\n",
    "plt.imshow(train_images[0], cmap='gray')\n",
    "plt.grid(False)\n",
    "plt.show()"
   ]
  },
  {
   "cell_type": "markdown",
   "metadata": {
    "id": "SGgA-lDXJcbY"
   },
   "source": [
    "\n",
    "The images are 28x28 NumPy arrays, with pixel values ranging from 0 to 255. The labels are an array of integers, ranging from 0 to 9. These correspond to the class of clothing the image represents:"
   ]
  },
  {
   "cell_type": "code",
   "execution_count": null,
   "metadata": {
    "id": "dg733miHFQIJ"
   },
   "outputs": [],
   "source": [
    "class_names = ['T-shirt/top', 'Trouser', 'Pullover', 'Dress', 'Coat',\n",
    "               'Sandal', 'Shirt', 'Sneaker', 'Bag', 'Ankle boot']"
   ]
  },
  {
   "cell_type": "code",
   "execution_count": null,
   "metadata": {
    "colab": {
     "base_uri": "https://localhost:8080/"
    },
    "id": "W9dE3DZWFQIJ",
    "outputId": "46eb9213-a9b0-4f83-cbfe-65f12d8b5d2e"
   },
   "outputs": [],
   "source": [
    "# Let's print to verify whether the data is of the correct format.\n",
    "plt.figure(figsize=(10,10))\n",
    "for i in range(25):\n",
    "    plt.subplot(5,5,i+1)\n",
    "    plt.xticks([])\n",
    "    plt.yticks([])\n",
    "    plt.grid(False)\n",
    "    plt.imshow(train_images[i], cmap=plt.cm.binary)\n",
    "    plt.xlabel(class_names[train_labels[i]])\n",
    "plt.show()"
   ]
  },
  {
   "cell_type": "markdown",
   "metadata": {
    "id": "nevzRPjVFQIJ"
   },
   "source": [
    "#### preprocessing"
   ]
  },
  {
   "cell_type": "markdown",
   "metadata": {
    "id": "WWu26KUCJiuu"
   },
   "source": [
    "The image pixel values range from 0 to 255. Let us now normalise the data range from 0 - 255 to 0 - 1 in both the Train and Test set. This normalisation of pixels helps us by optimizing the process where the gradients are computed."
   ]
  },
  {
   "cell_type": "code",
   "execution_count": null,
   "metadata": {
    "id": "VgEKglSGFQIJ"
   },
   "outputs": [],
   "source": [
    "train_images = train_images / 255.0\n",
    "test_images = test_images / 255.0"
   ]
  },
  {
   "cell_type": "markdown",
   "metadata": {
    "id": "DRNatbctFQIK"
   },
   "source": [
    "#### define model"
   ]
  },
  {
   "cell_type": "markdown",
   "metadata": {
    "id": "07cJa6g7Jl4Y"
   },
   "source": []
  },
  {
   "cell_type": "code",
   "execution_count": null,
   "metadata": {
    "id": "JcgpB42JFQIK"
   },
   "outputs": [],
   "source": [
    "from tensorflow.keras import backend as K\n",
    "K.clear_session()\n",
    "model = keras.Sequential([\n",
    "    keras.layers.Flatten(input_shape=(28, 28)),\n",
    "    keras.layers.Dense(128, activation='relu'),\n",
    "    keras.layers.Dense(10, activation='softmax')\n",
    "])"
   ]
  },
  {
   "cell_type": "markdown",
   "metadata": {
    "id": "T2-Pn1IXFQIK"
   },
   "source": [
    "#### compile model"
   ]
  },
  {
   "cell_type": "code",
   "execution_count": null,
   "metadata": {
    "id": "0hTP2JxAFQIK"
   },
   "outputs": [],
   "source": [
    "model.compile(optimizer='adam',\n",
    "              loss='sparse_categorical_crossentropy',\n",
    "              metrics=['accuracy'])"
   ]
  },
  {
   "cell_type": "code",
   "execution_count": null,
   "metadata": {
    "colab": {
     "base_uri": "https://localhost:8080/"
    },
    "id": "rSlVk4Q8FQIK",
    "outputId": "e02c97fb-d163-4751-b612-daaaf6be65eb"
   },
   "outputs": [],
   "source": [
    "hist = model.fit(train_images, train_labels, epochs=5)"
   ]
  },
  {
   "cell_type": "code",
   "execution_count": null,
   "metadata": {
    "colab": {
     "base_uri": "https://localhost:8080/"
    },
    "id": "jqdkOEPGFQIK",
    "outputId": "9bf6d34e-8ebf-4b1c-dcb4-bcb207c42074"
   },
   "outputs": [],
   "source": [
    "plt.plot(hist.history['loss'])"
   ]
  },
  {
   "cell_type": "markdown",
   "metadata": {
    "id": "MpDT6jN5FQIK"
   },
   "source": [
    "#### Evaluate accuracy"
   ]
  },
  {
   "cell_type": "code",
   "execution_count": null,
   "metadata": {
    "colab": {
     "base_uri": "https://localhost:8080/"
    },
    "id": "wjDV9ZqiFQIK",
    "outputId": "9faf46fb-c58d-4d5d-9aaf-18a055959f6f"
   },
   "outputs": [],
   "source": [
    "test_loss, test_acc = model.evaluate(test_images ,  test_labels, verbose=2)"
   ]
  },
  {
   "cell_type": "code",
   "execution_count": null,
   "metadata": {
    "colab": {
     "base_uri": "https://localhost:8080/"
    },
    "id": "rg5co9hFFQIL",
    "outputId": "1175b66c-8128-4f19-fd38-a732e8dd185f"
   },
   "outputs": [],
   "source": [
    "# Making predictions from the test_images\n",
    "\n",
    "predictions = model.predict(test_images)"
   ]
  },
  {
   "cell_type": "code",
   "execution_count": null,
   "metadata": {
    "id": "8DoSz66ZFQIL"
   },
   "outputs": [],
   "source": [
    "# Reshape input data from (28, 28) to (28, 28, 1)\n",
    "w, h = 28, 28\n",
    "train_images = train_images.reshape(train_images.shape[0], w, h)\n",
    "test_images = test_images.reshape(test_images.shape[0], w, h)\n",
    "\n",
    "\n",
    "# Helper functions to plot images \n",
    "def plot_image(i, predictions_array, true_label, img):\n",
    "  predictions_array, true_label, img = predictions_array, true_label[i], img[i]\n",
    "  plt.grid(False)\n",
    "  plt.xticks([])\n",
    "  plt.yticks([])\n",
    "\n",
    "  plt.imshow(img, cmap=plt.cm.binary)\n",
    "\n",
    "  predicted_label = np.argmax(predictions_array)\n",
    "  if predicted_label == true_label:\n",
    "    color = 'blue'\n",
    "  else:\n",
    "    color = 'red'\n",
    "\n",
    "  plt.xlabel(\"{} {:2.0f}% ({})\".format(class_names[predicted_label],\n",
    "                                100*np.max(predictions_array),\n",
    "                                class_names[true_label]),\n",
    "                                color=color)\n",
    "\n",
    "def plot_value_array(i, predictions_array, true_label):\n",
    "  predictions_array, true_label = predictions_array, true_label[i]\n",
    "  plt.grid(False)\n",
    "  plt.xticks(range(10))\n",
    "  plt.yticks([])\n",
    "  thisplot = plt.bar(range(10), predictions_array, color=\"#777777\")\n",
    "  plt.ylim([0, 1])\n",
    "  predicted_label = np.argmax(predictions_array)\n",
    "\n",
    "  thisplot[predicted_label].set_color('red')\n",
    "  thisplot[true_label].set_color('blue')"
   ]
  },
  {
   "cell_type": "code",
   "execution_count": null,
   "metadata": {
    "colab": {
     "base_uri": "https://localhost:8080/"
    },
    "id": "k0aKGGyVFQIL",
    "outputId": "441a0673-378d-4946-bfe9-8aa45c430c2b"
   },
   "outputs": [],
   "source": [
    "# Plot the first X test images, their predicted labels, and the true labels.\n",
    "# Color correct predictions in blue and incorrect predictions in red.\n",
    "num_rows = 5\n",
    "num_cols = 3\n",
    "num_images = num_rows*num_cols\n",
    "plt.figure(figsize=(2*2*num_cols, 2*num_rows))\n",
    "for i in range(num_images):\n",
    "  plt.subplot(num_rows, 2*num_cols, 2*i+1)\n",
    "  plot_image(i, predictions[i], test_labels, test_images)\n",
    "  plt.subplot(num_rows, 2*num_cols, 2*i+2)\n",
    "  plot_value_array(i, predictions[i], test_labels)\n",
    "plt.tight_layout()\n",
    "plt.show()"
   ]
  },
  {
   "cell_type": "markdown",
   "metadata": {},
   "source": [
    "# end of jupyter part2\n",
    "### Navigation  |[Part1-reg](part1_LR.ipynb) |  [Part2-MLP](part2_MLP.ipynb) |  [Part3-CNN](part3_CNN.ipynb) |  [Part4-ResNet](part4_resnet.ipynb) | [Part5-MLP Mixer](part5_Mixer.ipynb) |"
   ]
  },
  {
   "cell_type": "markdown",
   "metadata": {
    "id": "F0KVe0-hmWNj"
   },
   "source": [
    "<img src=\"https://www.nvidia.com/content/dam/en-zz/Solutions/about-nvidia/logo-and-brand/01-nvidia-logo-horiz-500x200-2c50-d@2x.png\" width=300>"
   ]
  }
 ],
 "metadata": {
  "accelerator": "GPU",
  "colab": {
   "provenance": []
  },
  "gpuClass": "standard",
  "kernelspec": {
   "display_name": "Python 3 (ipykernel)",
   "language": "python",
   "name": "python3"
  },
  "language_info": {
   "codemirror_mode": {
    "name": "ipython",
    "version": 3
   },
   "file_extension": ".py",
   "mimetype": "text/x-python",
   "name": "python",
   "nbconvert_exporter": "python",
   "pygments_lexer": "ipython3",
   "version": "3.8.10"
  }
 },
 "nbformat": 4,
 "nbformat_minor": 4
}
