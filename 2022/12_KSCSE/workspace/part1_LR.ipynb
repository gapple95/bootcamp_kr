{
 "cells": [
  {
   "cell_type": "markdown",
   "metadata": {},
   "source": [
    " <img src=\"https://www.nvidia.com/content/dam/en-zz/Solutions/about-nvidia/logo-and-brand/01-nvidia-logo-horiz-500x200-2c50-d@2x.png\" width=300>\n",
    " \n",
    "# 계산과학공학회 인공지능 겨울학교 2022\n",
    "# [KSCSE](http://www.cse.or.kr/) 2022  GPU Tutorial  @ High1\n",
    "# Day1 - Introducion to AI \n",
    "by Hyungon Ryu | NVAITC(NVIDIA AI Tech. Center)  Korea \n"
   ]
  },
  {
   "cell_type": "markdown",
   "metadata": {},
   "source": [
    "![](http://www.cse.or.kr/assets/img/logo_cse.png)"
   ]
  },
  {
   "cell_type": "markdown",
   "metadata": {},
   "source": [
    "# Part I - Linear Regression\n",
    "\n",
    " "
   ]
  },
  {
   "cell_type": "markdown",
   "metadata": {
    "id": "iMwOu8hqpz68"
   },
   "source": [
    "![](https://scikit-learn.org/stable/_images/sphx_glr_plot_ols_001.png)"
   ]
  },
  {
   "cell_type": "markdown",
   "metadata": {
    "id": "1RXGAaIUMuOl"
   },
   "source": [
    "Scikit-learn (Sklearn) is  Simple and efficient tools for predictive data analysis tool to provide a set of efficient tools for statistical modeling and machine learning, like classification, regression, clustering, and dimensionality reduction. NumPy, SciPy, and Matplotlib are the foundations of this package, primarily written in Python.\n",
    "\n",
    "`from sklearn.linear_model import LinearRegression`"
   ]
  },
  {
   "cell_type": "markdown",
   "metadata": {
    "id": "Q4vRXkkZp1on"
   },
   "source": []
  },
  {
   "cell_type": "code",
   "execution_count": null,
   "metadata": {
    "id": "SVULwX9ZOEPG"
   },
   "outputs": [],
   "source": [
    "import numpy as np\n",
    "import matplotlib.pyplot as plt\n",
    "import pandas as pd\n",
    "import seaborn as sns"
   ]
  },
  {
   "cell_type": "code",
   "execution_count": null,
   "metadata": {
    "id": "dTK337-FqQsk"
   },
   "outputs": [],
   "source": [
    "from sklearn import linear_model\n",
    "from sklearn.metrics import mean_squared_error, r2_score"
   ]
  },
  {
   "cell_type": "markdown",
   "metadata": {
    "id": "GLI8HCqBT1F2"
   },
   "source": [
    "## Diabetes dataset\n",
    "original dataset [](https://www4.stat.ncsu.edu/~boos/var.select/diabetes.tab.txt) \n",
    "- number of observation : 442\n",
    "- X , 10 variables\n",
    "  - age, age  in years\n",
    "  - sex\n",
    "  - bmi,  body mass index\n",
    "  - bp, average blood pressure\n",
    "  - s1 tc,  total serum cholesterol\n",
    "  - s2 ldl, low-density lipoproteins\n",
    "  - s3 hdl, high-density lipoproteins\n",
    "  - s4 tch, total cholesterol / HDL\n",
    "  - s5 ltg, possibly log of serum triglycerides level\n",
    "  - s6 glu, blood sugar level\n",
    "\n",
    "- Y, quantitative measure of disease progression one year after baseline\n"
   ]
  },
  {
   "cell_type": "markdown",
   "metadata": {
    "id": "Ge8wdFeiTxSi"
   },
   "source": [
    "### understand dataset\n",
    "scikit learn have preprocessed(normalized) diabetes dataset in bundle."
   ]
  },
  {
   "cell_type": "code",
   "execution_count": null,
   "metadata": {
    "id": "kVfuVO4uqSNP"
   },
   "outputs": [],
   "source": [
    "# Load the diabetes dataset\n",
    "from sklearn import datasets\n",
    "diabetes_X, diabetes_y = datasets.load_diabetes(return_X_y=True)"
   ]
  },
  {
   "cell_type": "code",
   "execution_count": null,
   "metadata": {
    "colab": {
     "base_uri": "https://localhost:8080/"
    },
    "id": "TVjCPmmhqUeT",
    "outputId": "e8db92b0-57ae-4a92-c94b-ac3b4bc36785"
   },
   "outputs": [],
   "source": [
    "print(diabetes_X.shape)\n",
    "print(diabetes_y.shape)\n",
    "print(diabetes_X[0],diabetes_y[0] )"
   ]
  },
  {
   "cell_type": "markdown",
   "metadata": {
    "id": "_Wlr3pNsSs9T"
   },
   "source": [
    "### select variables and split train/test datasets"
   ]
  },
  {
   "cell_type": "code",
   "execution_count": null,
   "metadata": {
    "id": "9-Gvvj5HqjB7"
   },
   "outputs": [],
   "source": [
    "# Use only one feature\n",
    "diabetes_X = diabetes_X[:, np.newaxis, 2] # 2 for BMI "
   ]
  },
  {
   "cell_type": "code",
   "execution_count": null,
   "metadata": {
    "id": "1NwJ_-Ytqhb0"
   },
   "outputs": [],
   "source": [
    "# Split the data into training/testing sets\n",
    "diabetes_X_train = diabetes_X[:-40]\n",
    "diabetes_X_test = diabetes_X[-40:]"
   ]
  },
  {
   "cell_type": "code",
   "execution_count": null,
   "metadata": {
    "id": "EewkQsPcqo2Z"
   },
   "outputs": [],
   "source": [
    "# Split the targets into training/testing sets\n",
    "diabetes_y_train = diabetes_y[:-40]\n",
    "diabetes_y_test = diabetes_y[-40:]"
   ]
  },
  {
   "cell_type": "code",
   "execution_count": null,
   "metadata": {
    "colab": {
     "base_uri": "https://localhost:8080/",
     "height": 282
    },
    "id": "5ki7K9HQSHKc",
    "outputId": "5949bd9b-7f3e-4489-baa0-a6593e2d0bfd"
   },
   "outputs": [],
   "source": [
    "# Plot outputs\n",
    "plt.scatter(diabetes_X_train, diabetes_y_train, color=\"black\")"
   ]
  },
  {
   "cell_type": "markdown",
   "metadata": {
    "id": "F4O5RpvF3pYf"
   },
   "source": [
    "## regression with ols\n",
    "LinearRegression fits a linear model with coefficients `w = (w1, …, wp)` to minimize the residual sum of squares between the observed targets in the dataset, and the targets predicted by the linear approximation. documents : [LinearRegression](https://scikit-learn.org/stable/modules/generated/sklearn.linear_model.LinearRegression.html)"
   ]
  },
  {
   "cell_type": "code",
   "execution_count": null,
   "metadata": {
    "id": "m4Ud4i06quh-"
   },
   "outputs": [],
   "source": [
    "# Create linear regression object\n",
    "regr = linear_model.LinearRegression()"
   ]
  },
  {
   "cell_type": "code",
   "execution_count": null,
   "metadata": {
    "colab": {
     "base_uri": "https://localhost:8080/"
    },
    "id": "TcES7fqCqxDQ",
    "outputId": "b975e6aa-1e64-49a5-df38-95cb21189954"
   },
   "outputs": [],
   "source": [
    "# Train the model using the training sets\n",
    "regr.fit(diabetes_X_train, diabetes_y_train)"
   ]
  },
  {
   "cell_type": "code",
   "execution_count": null,
   "metadata": {
    "id": "Qq8XnYARqzTn"
   },
   "outputs": [],
   "source": [
    "# Make predictions using the testing set\n",
    "diabetes_y_pred = regr.predict(diabetes_X_test)"
   ]
  },
  {
   "cell_type": "markdown",
   "metadata": {
    "id": "DEacHoXORqGV"
   },
   "source": [
    "### draw regression line"
   ]
  },
  {
   "cell_type": "code",
   "execution_count": null,
   "metadata": {
    "colab": {
     "base_uri": "https://localhost:8080/",
     "height": 321
    },
    "id": "rpgQDrkAq3JL",
    "outputId": "501ee18c-88ee-4dce-847d-a8e006b23acd"
   },
   "outputs": [],
   "source": [
    "# The coefficients\n",
    "print(\"Coefficients: \\n\", regr.coef_)\n",
    "# The mean squared error\n",
    "print(\"Mean squared error: %.2f\" % mean_squared_error(diabetes_y_test, diabetes_y_pred))\n",
    "# The coefficient of determination: 1 is perfect prediction\n",
    "print(\"Coefficient of determination: %.2f\" % r2_score(diabetes_y_test, diabetes_y_pred))\n",
    "\n",
    "# Plot outputs\n",
    "plt.scatter(diabetes_X_test, diabetes_y_test, color=\"black\")\n",
    "plt.plot(diabetes_X_test, diabetes_y_pred, color=\"blue\", linewidth=3)\n",
    "\n",
    "plt.xticks(())\n",
    "plt.yticks(())\n",
    "\n",
    "plt.show()"
   ]
  },
  {
   "cell_type": "markdown",
   "metadata": {
    "id": "t5H2-oMYVP-J"
   },
   "source": [
    "##  model with Keras MLP"
   ]
  },
  {
   "cell_type": "code",
   "execution_count": null,
   "metadata": {
    "id": "EIwKH21joReO"
   },
   "outputs": [],
   "source": [
    "import numpy as np\n",
    "import matplotlib.pyplot as plt\n",
    "import pandas as pd\n",
    "import seaborn as sns"
   ]
  },
  {
   "cell_type": "markdown",
   "metadata": {
    "id": "BJ5mImqyB6kt"
   },
   "source": [
    "### diabetes dataset\n",
    "\n",
    "From Bradley Efron, Trevor Hastie, Iain Johnstone and Robert Tibshirani (2004) \"Least Angle Regression,\" Annals of Statistics (with discussion), 407-499, we have\n",
    "\n",
    "\"Ten baseline variables, age, sex, body mass index, average blood pressure, and six blood serum measurements were obtained for each of n = 442 diabetes patients, as well as the response of interest, a quantitative measure of disease progression one year after baseline.\"\n",
    "\n",
    "In the tab delimited file above, the variables are named\n",
    "\n",
    "`AGE SEX BMI BP S1 S2 S3 S4 S5 S6 Y`\n",
    "whereas, in the R file, they are named\n",
    "\n",
    "`age sex bmi map tc ldl hdl tch ltg glu y`\n",
    "\n",
    "[link](https://www4.stat.ncsu.edu/~boos/var.select/diabetes.html)"
   ]
  },
  {
   "cell_type": "markdown",
   "metadata": {
    "id": "SsxQaZDmB9qy"
   },
   "source": [
    "### load data with pandas dataframe library"
   ]
  },
  {
   "cell_type": "code",
   "execution_count": null,
   "metadata": {
    "colab": {
     "base_uri": "https://localhost:8080/"
    },
    "id": "8NLF2TZFVQSS",
    "outputId": "829ab42d-e532-4caa-b360-775800b53362"
   },
   "outputs": [],
   "source": [
    "df = pd.read_csv('https://www4.stat.ncsu.edu/~boos/var.select/diabetes.tab.txt', sep='\\t')\n",
    "print(df.head())"
   ]
  },
  {
   "cell_type": "markdown",
   "metadata": {
    "id": "5d68lWIE5T5c"
   },
   "source": [
    "### visualize multivariates with sns pairplot"
   ]
  },
  {
   "cell_type": "code",
   "execution_count": null,
   "metadata": {
    "colab": {
     "base_uri": "https://localhost:8080/",
     "height": 1096
    },
    "id": "E6DY96No512p",
    "outputId": "5304d240-12da-4712-f50d-690f6dcf880e"
   },
   "outputs": [],
   "source": [
    "sns.pairplot(df[[\"AGE\", 'SEX' , \"BMI\", \"BP\", \"S1\", \"S6\", \"Y\"]] , hue='SEX')"
   ]
  },
  {
   "cell_type": "code",
   "execution_count": null,
   "metadata": {
    "colab": {
     "base_uri": "https://localhost:8080/",
     "height": 920
    },
    "id": "Wu6veHeX6l8o",
    "outputId": "ea09edff-c317-487e-f618-4b0aee215e03"
   },
   "outputs": [],
   "source": [
    "sns.pairplot(df[[\"AGE\",  \"BMI\", \"BP\", \"S1\", \"S6\", \"Y\"]] , hue='AGE')"
   ]
  },
  {
   "cell_type": "code",
   "execution_count": null,
   "metadata": {
    "id": "5LD-gQXGZGAs"
   },
   "outputs": [],
   "source": [
    "df_train = df.sample(frac=0.8,random_state=0)\n",
    "df_test = df.drop(df_train.index)"
   ]
  },
  {
   "cell_type": "code",
   "execution_count": null,
   "metadata": {
    "colab": {
     "base_uri": "https://localhost:8080/",
     "height": 363
    },
    "id": "q2-gNmGoZTZh",
    "outputId": "6169e0bd-8e89-4a7a-e769-b43ea63259b8"
   },
   "outputs": [],
   "source": [
    "train_stats = df_train.describe()\n",
    "train_stats.pop(\"Y\")\n",
    "train_stats = train_stats.transpose()\n",
    "train_stats"
   ]
  },
  {
   "cell_type": "code",
   "execution_count": null,
   "metadata": {
    "id": "0zP06VIkZfRW"
   },
   "outputs": [],
   "source": [
    "train_labels = df_train.pop('Y')\n",
    "test_labels = df_test.pop('Y')"
   ]
  },
  {
   "cell_type": "code",
   "execution_count": null,
   "metadata": {
    "id": "f2oCC007ZmbD"
   },
   "outputs": [],
   "source": [
    "def norm(x):\n",
    "  return (x - train_stats['mean']) / train_stats['std']"
   ]
  },
  {
   "cell_type": "code",
   "execution_count": null,
   "metadata": {
    "id": "84sFVvtlZvAS"
   },
   "outputs": [],
   "source": [
    "df_train_normalized = norm(df_train)\n",
    "df_test_normalized = norm(df_test)"
   ]
  },
  {
   "cell_type": "code",
   "execution_count": null,
   "metadata": {
    "id": "DTUmwpyvaqQD"
   },
   "outputs": [],
   "source": [
    "import tensorflow as tf\n",
    "from tensorflow import keras\n",
    "from tensorflow.keras import layers"
   ]
  },
  {
   "cell_type": "markdown",
   "metadata": {
    "id": "3Ngh-957kWSw"
   },
   "source": [
    "## simple MLP model"
   ]
  },
  {
   "cell_type": "markdown",
   "metadata": {
    "id": "jUNPZSZf7our"
   },
   "source": [
    "# Building a Neuron\n",
    "\n",
    "Neurons are the fundamental building blocks to a neural network. Just like how biological neurons send an electrical impulse under specific stimuli, artificial neural networks similarly result in a numerical output with a given numerical input.\n",
    "\n",
    "We can break down building a neuron into 3 steps:\n",
    "\n",
    " - Defining the architecture\n",
    " - Intiating training ( compile)\n",
    " - Evaluating the model\n",
    "\n",
    "![](https://camo.githubusercontent.com/b1cabba25cf7982d07a2a8ad60f344a0a69b463a75896d03c0e05ee02253a3bc/68747470733a2f2f75706c6f61642e77696b696d656469612e6f72672f77696b6970656469612f636f6d6d6f6e732f7468756d622f312f31302f426c617573656e5f303635375f4d756c7469706f6c61724e6575726f6e2e706e672f35313270782d426c617573656e5f303635375f4d756c7469706f6c61724e6575726f6e2e706e67)"
   ]
  },
  {
   "cell_type": "markdown",
   "metadata": {
    "id": "G5jjRTHH7ous"
   },
   "source": [
    "Image courtesy of Wikimedia Commons\n",
    "\n",
    "Biological neurons transmit information with a mechanism similar to Morse Code. It receives electrical signals through the dendrites, and under the right conditions, sends an electrical impulse down the axon and out through the terminals.\n",
    "\n",
    "It is theorized the sequence and timing of these impulses play a large part of how information travels through the brain. Most artificial neural networks have yet to capture this timing aspect of biological neurons, and instead emulate the phenomenon with simpler mathematical formulas."
   ]
  },
  {
   "cell_type": "markdown",
   "metadata": {
    "id": "knJwmYdl7ous"
   },
   "source": [
    "# The Math\n",
    "Computers are built with discrete 0s and 1s whereas humans and animals are built on more continuous building blocks. Because of this, some of the first neurons attempted to mimic biological neurons with a linear regression function: $y = mx + b$. The $x$ is like information coming in through the dendrites and the $y$ is like the output through the terminals. As the computer guesses more and more answers to the questions we present it, it will update its variables ($m$ and $b$) to better fit the line to the data it has seen.\n",
    "\n",
    "Neurons are often exposed to multivariate data. We're going to build a neuron that takes each  value ( float), and assign it a weight, which is equivalent to our m. Data scientists often express this weight as w. For example, the first variable will have a weight of `w0`, the second will have a weight of `w1`, and so on. Our full equation becomes `y = w0x0 + w1x1 + w2x2 + ... + b`. \n",
    "\n",
    "Each observatio have 10 variables, so we will have a total of 10 weights. All values of variables are normalized.  Each number below will be assigned a weight."
   ]
  },
  {
   "cell_type": "markdown",
   "metadata": {
    "id": "5k6QfxsI7out"
   },
   "source": [
    "#### Defining our model"
   ]
  },
  {
   "cell_type": "markdown",
   "metadata": {
    "id": "8OrbL8wH7out"
   },
   "source": [
    "Our model has three layers:\n",
    "\n",
    " - 10 input features (10 variables)\n",
    " - 512 nodes in the hidden layer (feel free to experiment with this value) \n",
    " - 1 output nodes to denote the class\n",
    "\n",
    "We assume the input is 1d array. the network consists of a sequence of two tf.keras.layers.Dense layers. These are densely connected, or fully connected, neural layers. The first Dense layer has 512 nodes (or neurons). The second (and last) layer is a 1-node dense layer that returns an float variable to regresstion. \n",
    "\n"
   ]
  },
  {
   "cell_type": "markdown",
   "metadata": {
    "id": "7SKvJKTi7Wy1"
   },
   "source": []
  },
  {
   "cell_type": "code",
   "execution_count": null,
   "metadata": {
    "id": "0AmpEU-KaAKt"
   },
   "outputs": [],
   "source": [
    "model = keras.Sequential([\n",
    "layers.Input( shape=[len(df_train.keys())]   ) ,\n",
    "layers.Dense(512, activation='relu'), \n",
    "layers.Dense(1) # regression\n",
    "])\n"
   ]
  },
  {
   "cell_type": "code",
   "execution_count": null,
   "metadata": {
    "colab": {
     "base_uri": "https://localhost:8080/"
    },
    "id": "tiLcAJAtaG8O",
    "outputId": "424d5914-21cc-4acb-fe68-aaae273b63d0"
   },
   "outputs": [],
   "source": [
    "model.summary()"
   ]
  },
  {
   "cell_type": "markdown",
   "metadata": {
    "id": "A0F2qRkv9Eyd"
   },
   "source": [
    "### compile the model"
   ]
  },
  {
   "cell_type": "markdown",
   "metadata": {
    "id": "yWdIlI2i9D_C"
   },
   "source": [
    "\n",
    "Before the model is ready for training, it needs a few more settings. These are added during the model's compile step:\n",
    "\n",
    " - <B>Loss function</B> —This measures how accurate the model is during training. You want to minimize this function to \"steer\" the model in the right direction. See KERAS's [loss functions](https://keras.io/api/losses/) section\n",
    " - <B>Optimizer</B> —This is how the model is updated based on the data it sees and its loss function. See Keras [Optimizer](https://keras.io/api/optimizers/) Section\n",
    " - <B>Metrics</B> —Used to monitor the training and testing steps. The following example uses accuracy, the fraction of the images that are correctly classified. See Keras's [Metrics](https://keras.io/api/metrics/) section"
   ]
  },
  {
   "cell_type": "code",
   "execution_count": null,
   "metadata": {
    "id": "8EYuQUHBa9i4"
   },
   "outputs": [],
   "source": [
    "model.compile(loss='mse',\n",
    "                optimizer='adam',\n",
    "                metrics=['mae', 'mse'])"
   ]
  },
  {
   "cell_type": "markdown",
   "metadata": {
    "id": "Kwjm0y7L9Hd_"
   },
   "source": [
    "### prepare callback function for log"
   ]
  },
  {
   "cell_type": "code",
   "execution_count": null,
   "metadata": {
    "id": "1Fg0g9G4f2eJ"
   },
   "outputs": [],
   "source": [
    "class PrintDot(keras.callbacks.Callback):\n",
    "  def on_epoch_end(self, epoch, logs):\n",
    "    if epoch % 50 == 0: print(epoch, logs)\n",
    "    print('.', end='')"
   ]
  },
  {
   "cell_type": "markdown",
   "metadata": {
    "id": "fH8jQ_1e9Uof"
   },
   "source": [
    "\n",
    "### train the model \n",
    "Training the neural network model requires the following steps:\n",
    "\n",
    " 1. Feed the training data to the model. In this example, the training data is in the `df_train_normalized`  and `train_labels` arrays.\n",
    " 2. The model learns to associate multi variables and output.\n",
    " 3. You ask the model to make predictions about a test set—in this example, the   `df_test_normalized` array. Verify that the predictions match the labels from the `test_labels` array.\n",
    " To start training, call the model.fit method—so called because it \"fits\" the model to the training data:"
   ]
  },
  {
   "cell_type": "code",
   "execution_count": null,
   "metadata": {
    "colab": {
     "base_uri": "https://localhost:8080/"
    },
    "id": "CKaxh-kwgdtJ",
    "outputId": "ccee03c1-e424-4f65-c4e1-99cffd3406c9"
   },
   "outputs": [],
   "source": [
    "hist = model.fit(\n",
    "  df_train_normalized, train_labels,\n",
    "  epochs=500, validation_split = 0.2, verbose=0  ,\n",
    "  callbacks=[PrintDot()] )"
   ]
  },
  {
   "cell_type": "code",
   "execution_count": null,
   "metadata": {
    "colab": {
     "base_uri": "https://localhost:8080/",
     "height": 284
    },
    "id": "pkkBBjDScBC-",
    "outputId": "f9f581d5-80c9-4f2b-ee44-fb03e5770d56"
   },
   "outputs": [],
   "source": [
    "plt.plot(hist.history['loss']) "
   ]
  },
  {
   "cell_type": "code",
   "execution_count": null,
   "metadata": {
    "colab": {
     "base_uri": "https://localhost:8080/",
     "height": 265
    },
    "id": "b7RYroPpcM8a",
    "outputId": "7eba0a93-cd0d-48a3-d78b-2913120e7537"
   },
   "outputs": [],
   "source": [
    "plt.plot(hist.history['mae'])\n",
    "plt.plot(hist.history['val_mae'])\n",
    "plt.show()"
   ]
  },
  {
   "cell_type": "code",
   "execution_count": null,
   "metadata": {
    "colab": {
     "base_uri": "https://localhost:8080/"
    },
    "id": "qhnWNIeWa9vO",
    "outputId": "91f51238-37be-42ce-f462-3ce41b5c8449"
   },
   "outputs": [],
   "source": [
    "df_test_predictions = model.predict(df_test_normalized).flatten()"
   ]
  },
  {
   "cell_type": "code",
   "execution_count": null,
   "metadata": {
    "colab": {
     "base_uri": "https://localhost:8080/",
     "height": 279
    },
    "id": "vlCmvyTca9yR",
    "outputId": "99d8dda2-775b-4926-b729-6c0e981e728a"
   },
   "outputs": [],
   "source": [
    "plt.scatter(test_labels, df_test_predictions)\n",
    "plt.xlabel('True Values [Y]')\n",
    "plt.ylabel('Predictions [Y]')\n",
    "plt.axis('equal')\n",
    "plt.axis('square')\n",
    "plt.xlim([0,plt.xlim()[1]])\n",
    "plt.ylim([0,plt.ylim()[1]])\n",
    "_ = plt.plot([-400, 400], [-400, 400], color='black')"
   ]
  },
  {
   "cell_type": "code",
   "execution_count": null,
   "metadata": {
    "colab": {
     "base_uri": "https://localhost:8080/",
     "height": 279
    },
    "id": "7lOgYTEpeL4x",
    "outputId": "f99d27e8-a9b9-42a0-ce18-90e618b1f868"
   },
   "outputs": [],
   "source": [
    "error = df_test_predictions - test_labels\n",
    "plt.hist(error, bins = 25)\n",
    "plt.xlabel(\"Prediction Error [Y]\")\n",
    "_ = plt.ylabel(\"Count\")"
   ]
  },
  {
   "cell_type": "markdown",
   "metadata": {
    "id": "yY7kPS7Y-Cfz"
   },
   "source": [
    "### result\n",
    "\n",
    "model is not good. "
   ]
  },
  {
   "cell_type": "markdown",
   "metadata": {
    "id": "xTEDFOiwiUqZ"
   },
   "source": [
    "## one hot encoding for sex "
   ]
  },
  {
   "cell_type": "code",
   "execution_count": null,
   "metadata": {
    "id": "GAYcEsVgob22"
   },
   "outputs": [],
   "source": [
    "import numpy as np\n",
    "import matplotlib.pyplot as plt\n",
    "import pandas as pd\n",
    "import seaborn as sns\n",
    "\n",
    "import tensorflow as tf\n",
    "from tensorflow import keras\n",
    "from tensorflow.keras import layers"
   ]
  },
  {
   "cell_type": "code",
   "execution_count": null,
   "metadata": {
    "colab": {
     "base_uri": "https://localhost:8080/"
    },
    "id": "LSBSt1LBoMPp",
    "outputId": "cc50c89d-6f2d-4a80-b7fd-8255655b2749"
   },
   "outputs": [],
   "source": [
    "df = pd.read_csv('https://www4.stat.ncsu.edu/~boos/var.select/diabetes.tab.txt', sep='\\t')\n",
    "print(df.head())"
   ]
  },
  {
   "cell_type": "code",
   "execution_count": null,
   "metadata": {
    "id": "9uegT8FWoX71"
   },
   "outputs": [],
   "source": [
    "df_train = df.sample(frac=0.8,random_state=0)\n",
    "df_test = df.drop(df_train.index)"
   ]
  },
  {
   "cell_type": "code",
   "execution_count": null,
   "metadata": {
    "id": "Om6LPADRArQ4"
   },
   "outputs": [],
   "source": [
    "df_train = pd.get_dummies(df_train,  columns=['SEX'], prefix='SEX')\n",
    "df_test = pd.get_dummies(df_test,  columns=['SEX'], prefix='SEX')"
   ]
  },
  {
   "cell_type": "code",
   "execution_count": null,
   "metadata": {
    "colab": {
     "base_uri": "https://localhost:8080/",
     "height": 394
    },
    "id": "Gs97PrDXoo5z",
    "outputId": "fcc9c627-1869-4c54-cd8f-6370f96aaefb"
   },
   "outputs": [],
   "source": [
    "train_stats = df_train.describe()\n",
    "train_stats.pop(\"Y\")\n",
    "train_stats = train_stats.transpose()\n",
    "train_stats"
   ]
  },
  {
   "cell_type": "code",
   "execution_count": null,
   "metadata": {
    "id": "8c3wa6HSoxyD"
   },
   "outputs": [],
   "source": [
    "train_labels = df_train.pop('Y')\n",
    "test_labels = df_test.pop('Y')"
   ]
  },
  {
   "cell_type": "code",
   "execution_count": null,
   "metadata": {
    "id": "L5HuTeCNo1JG"
   },
   "outputs": [],
   "source": [
    "def norm(x):\n",
    "  return (x - train_stats['mean']) / train_stats['std']"
   ]
  },
  {
   "cell_type": "code",
   "execution_count": null,
   "metadata": {
    "id": "7L_odw_Vo1MX"
   },
   "outputs": [],
   "source": [
    "df_train_normalized = norm(df_train)\n",
    "df_test_normalized = norm(df_test)"
   ]
  },
  {
   "cell_type": "code",
   "execution_count": null,
   "metadata": {
    "id": "i-cKYAxuDVkN"
   },
   "outputs": [],
   "source": [
    "model = keras.Sequential([\n",
    "layers.Input( shape=[len(df_train.keys())]   ) ,\n",
    "layers.Dense(512, activation='relu'), \n",
    "layers.Dense(512, activation='relu'), \n",
    "layers.Dense(512, activation='relu'), \n",
    "layers.Dense(1) # regression\n",
    "])\n"
   ]
  },
  {
   "cell_type": "code",
   "execution_count": null,
   "metadata": {
    "id": "LcCSRzVqDVnC"
   },
   "outputs": [],
   "source": [
    "model.compile(loss='mse',\n",
    "                optimizer='adam',\n",
    "                metrics=['mae', 'mse'])"
   ]
  },
  {
   "cell_type": "code",
   "execution_count": null,
   "metadata": {
    "id": "vJQ8U3oyDVp9"
   },
   "outputs": [],
   "source": [
    "class PrintDot(keras.callbacks.Callback):\n",
    "  def on_epoch_end(self, epoch, logs):\n",
    "    if epoch % 50 == 0: print(epoch, logs)\n",
    "    print('.', end='')"
   ]
  },
  {
   "cell_type": "code",
   "execution_count": null,
   "metadata": {
    "colab": {
     "base_uri": "https://localhost:8080/"
    },
    "id": "L10nW3QsDVs5",
    "outputId": "270f3e88-3778-48d6-a727-58c80fece42d"
   },
   "outputs": [],
   "source": [
    "hist = model.fit(\n",
    "  df_train_normalized, train_labels,\n",
    "  epochs=500, validation_split = 0.2, verbose=0  ,\n",
    "  callbacks=[PrintDot()] )"
   ]
  },
  {
   "cell_type": "code",
   "execution_count": null,
   "metadata": {
    "colab": {
     "base_uri": "https://localhost:8080/",
     "height": 282
    },
    "id": "JnwZFvykDVv2",
    "outputId": "46f30f91-23a9-44df-943f-cfd029b2248c"
   },
   "outputs": [],
   "source": [
    "plt.plot(hist.history['loss']) "
   ]
  },
  {
   "cell_type": "code",
   "execution_count": null,
   "metadata": {
    "colab": {
     "base_uri": "https://localhost:8080/",
     "height": 265
    },
    "id": "1PsMTsLFDtBa",
    "outputId": "66e35827-ccce-4f78-9bfd-58f88f358f10"
   },
   "outputs": [],
   "source": [
    "plt.plot(hist.history['mae'])\n",
    "plt.plot(hist.history['val_mae'])\n",
    "plt.show()"
   ]
  },
  {
   "cell_type": "code",
   "execution_count": null,
   "metadata": {
    "colab": {
     "base_uri": "https://localhost:8080/"
    },
    "id": "QjYGnVRjDtGC",
    "outputId": "501c4ff2-73e8-4956-8398-0b82812db10f"
   },
   "outputs": [],
   "source": [
    "df_test_predictions = model.predict(df_test_normalized).flatten()"
   ]
  },
  {
   "cell_type": "code",
   "execution_count": null,
   "metadata": {
    "colab": {
     "base_uri": "https://localhost:8080/",
     "height": 280
    },
    "id": "Jxf_DUKYDtJv",
    "outputId": "cd060219-7e01-40fd-ecca-e075e3ed8a79"
   },
   "outputs": [],
   "source": [
    "plt.scatter(test_labels, df_test_predictions)\n",
    "plt.xlabel('True Values [Y]')\n",
    "plt.ylabel('Predictions [Y]')\n",
    "plt.axis('equal')\n",
    "plt.axis('square')\n",
    "plt.xlim([0,plt.xlim()[1]])\n",
    "plt.ylim([0,plt.ylim()[1]])\n",
    "_ = plt.plot([-400, 400], [-400, 400], color='black')"
   ]
  },
  {
   "cell_type": "code",
   "execution_count": null,
   "metadata": {
    "colab": {
     "base_uri": "https://localhost:8080/",
     "height": 279
    },
    "id": "9xL7cPLTEhAU",
    "outputId": "0c34be79-6674-42b9-8e34-e6e132fd492d"
   },
   "outputs": [],
   "source": [
    "error = df_test_predictions - test_labels\n",
    "plt.hist(error, bins = 25)\n",
    "plt.xlabel(\"Prediction Error [Y]\")\n",
    "_ = plt.ylabel(\"Count\")"
   ]
  },
  {
   "cell_type": "markdown",
   "metadata": {
    "id": "1qkVFLZYDUmo"
   },
   "source": []
  },
  {
   "cell_type": "code",
   "execution_count": null,
   "metadata": {
    "id": "XStVychZDILq"
   },
   "outputs": [],
   "source": [
    "df_train = pd.get_dummies(df_train,  columns=['SEX'], prefix='SEX')\n",
    "df_test = pd.get_dummies(df_test,  columns=['SEX'], prefix='SEX')"
   ]
  },
  {
   "cell_type": "code",
   "execution_count": null,
   "metadata": {
    "colab": {
     "base_uri": "https://localhost:8080/"
    },
    "id": "5hlIj8kZiU9_",
    "outputId": "a258475f-0d1d-4e76-e6a1-787e76d558f8"
   },
   "outputs": [],
   "source": [
    "print(df_train_normalized.shape, df_test_normalized.shape)"
   ]
  },
  {
   "cell_type": "code",
   "execution_count": null,
   "metadata": {
    "id": "hU_zwAHNoFxZ"
   },
   "outputs": [],
   "source": [
    "num_samples = df_train_normalized.shape[0]\n",
    "num_variables = df_train_normalized.shape[1]\n",
    "num_dim = 1 \n"
   ]
  },
  {
   "cell_type": "markdown",
   "metadata": {
    "id": "rsFlwoGgPIjT"
   },
   "source": [
    "# XGboost (optional)"
   ]
  },
  {
   "cell_type": "code",
   "execution_count": null,
   "metadata": {
    "id": "qdfpNK8PPS1F"
   },
   "outputs": [],
   "source": [
    "import xgboost as xgb"
   ]
  },
  {
   "cell_type": "code",
   "execution_count": null,
   "metadata": {
    "id": "KjpRxW4viVEr"
   },
   "outputs": [],
   "source": [
    "xg_reg = xgb.XGBRegressor()"
   ]
  },
  {
   "cell_type": "code",
   "execution_count": null,
   "metadata": {
    "colab": {
     "base_uri": "https://localhost:8080/"
    },
    "id": "GVocHX92P7UQ",
    "outputId": "8f3f3677-e32b-4d00-d010-af01b3c016ae"
   },
   "outputs": [],
   "source": [
    "xg_reg.fit(df_train_normalized, train_labels)"
   ]
  },
  {
   "cell_type": "code",
   "execution_count": null,
   "metadata": {
    "id": "pFG161MtQa-3"
   },
   "outputs": [],
   "source": [
    "preds = xg_reg.predict(df_test_normalized)"
   ]
  },
  {
   "cell_type": "code",
   "execution_count": null,
   "metadata": {
    "colab": {
     "base_uri": "https://localhost:8080/",
     "height": 279
    },
    "id": "hffg6vJxQhFM",
    "outputId": "e3baa1fe-4927-4ba2-e3aa-31205ddee955"
   },
   "outputs": [],
   "source": [
    " plt.scatter(test_labels , preds )\n",
    "plt.xlabel('True Values [Y]')\n",
    "plt.ylabel('Predictions [Y]')\n",
    "plt.axis('equal')\n",
    "plt.axis('square')\n",
    "plt.xlim([0,plt.xlim()[1]])\n",
    "plt.ylim([0,plt.ylim()[1]])\n",
    "_ = plt.plot([-350, 350], [-350, 350], color='black')"
   ]
  },
  {
   "cell_type": "code",
   "execution_count": null,
   "metadata": {
    "colab": {
     "base_uri": "https://localhost:8080/",
     "height": 279
    },
    "id": "HEeUGeA9QrSZ",
    "outputId": "c8ee1317-b7ca-4648-b5f6-af3f292235e2"
   },
   "outputs": [],
   "source": [
    "error = np.array(df_test_normalized_reshaped_pred) - np.array(test_labels)\n",
    "plt.hist(error, bins = 25)\n",
    "plt.xlabel(\"Prediction Error [Y]\")\n",
    "_ = plt.ylabel(\"Count\")"
   ]
  },
  {
   "cell_type": "markdown",
   "metadata": {
    "id": "n-DUNKSHQOE7"
   },
   "source": []
  },
  {
   "cell_type": "markdown",
   "metadata": {
    "id": "lLRFN-lNrWAE"
   },
   "source": [
    "# reshape for conv 1d "
   ]
  },
  {
   "cell_type": "code",
   "execution_count": null,
   "metadata": {
    "id": "c0zsiMzCrdVT"
   },
   "outputs": [],
   "source": [
    "num_samples = df_train_normalized.shape[0]\n",
    "num_variables = df_train_normalized.shape[1]\n",
    "num_dim = 1 \n",
    "df_train_normalized_reshaped = np.array(df_train_normalized).reshape(num_samples,num_variables,num_dim)"
   ]
  },
  {
   "cell_type": "code",
   "execution_count": null,
   "metadata": {
    "id": "SCnnlQbJsNuL"
   },
   "outputs": [],
   "source": [
    "num_samples = df_test_normalized.shape[0]\n",
    "num_variables = df_test_normalized.shape[1]\n",
    "num_dim = 1 \n",
    "\n",
    "df_test_normalized_reshaped = np.array(df_test_normalized).reshape(num_samples,num_variables,num_dim)"
   ]
  },
  {
   "cell_type": "code",
   "execution_count": null,
   "metadata": {
    "colab": {
     "base_uri": "https://localhost:8080/"
    },
    "id": "yFMLI3ZirdYd",
    "outputId": "6a3ee348-f231-450a-bb60-713eb28c2aff"
   },
   "outputs": [],
   "source": [
    "print(df_train_normalized_reshaped.shape, df_test_normalized_reshaped.shape)"
   ]
  },
  {
   "cell_type": "code",
   "execution_count": null,
   "metadata": {
    "id": "OVFdr8ZIrdbi"
   },
   "outputs": [],
   "source": []
  },
  {
   "cell_type": "code",
   "execution_count": null,
   "metadata": {
    "id": "y5zfZinjrde7"
   },
   "outputs": [],
   "source": [
    "model = keras.Sequential([\n",
    "layers.Input( shape= (num_variables,num_dim )   ) ,\n",
    "layers.Conv1D(filters=128, kernel_size=3, activation='relu', name=\"Conv1D_1\"),\n",
    "#layers.MaxPooling1D(pool_size=2, name=\"MaxPooling1D_1\"),\n",
    "layers.Dropout(0.2),\n",
    "layers.Conv1D(filters=128, kernel_size=3, activation='relu', name=\"Conv1D_2\"),\n",
    "#layers.MaxPooling1D(pool_size=2, name=\"MaxPooling1D_2\"),\n",
    "layers.Dropout(0.2),\n",
    "layers.Flatten(),\n",
    "layers.Dense(512, activation='relu'),\n",
    "layers.Dropout(0.2),\n",
    "layers.Dense(512, activation='relu'),\n",
    "layers.Dropout(0.2),\n",
    "layers.Dense(128, activation='relu'),\n",
    "layers.Dense(1)\n",
    "])\n"
   ]
  },
  {
   "cell_type": "code",
   "execution_count": null,
   "metadata": {
    "colab": {
     "base_uri": "https://localhost:8080/"
    },
    "id": "Ac1zGuumskDr",
    "outputId": "c3952f23-e28c-4410-c9d4-c8991f0007bc"
   },
   "outputs": [],
   "source": [
    "model.summary()"
   ]
  },
  {
   "cell_type": "code",
   "execution_count": null,
   "metadata": {
    "id": "KTyRE1g-ssgJ"
   },
   "outputs": [],
   "source": [
    "model.compile(loss='mse',\n",
    "                optimizer='adam',\n",
    "                metrics=['mae', 'mse'])"
   ]
  },
  {
   "cell_type": "code",
   "execution_count": null,
   "metadata": {
    "id": "5vGQygz5sxCO"
   },
   "outputs": [],
   "source": [
    "class PrintDot(keras.callbacks.Callback):\n",
    "  def on_epoch_end(self, epoch, logs):\n",
    "    if epoch % 50 == 0: print(epoch, logs)\n",
    "    print('.', end='')"
   ]
  },
  {
   "cell_type": "code",
   "execution_count": null,
   "metadata": {
    "colab": {
     "base_uri": "https://localhost:8080/"
    },
    "id": "o6kjAY1JsxCO",
    "outputId": "79b40bfd-3a2b-4f3c-c0a8-c66c742edf40"
   },
   "outputs": [],
   "source": [
    "hist = model.fit(\n",
    "  df_train_normalized_reshaped, train_labels,\n",
    "  epochs=500, validation_split = 0.2, verbose=0  ,\n",
    "  callbacks=[PrintDot()] )"
   ]
  },
  {
   "cell_type": "code",
   "execution_count": null,
   "metadata": {
    "colab": {
     "base_uri": "https://localhost:8080/",
     "height": 282
    },
    "id": "JoY1ZtzTs9Lx",
    "outputId": "3dcbf935-2e63-4a70-cfde-9dbf7a9d07ab"
   },
   "outputs": [],
   "source": [
    "plt.plot(hist.history['loss']) "
   ]
  },
  {
   "cell_type": "code",
   "execution_count": null,
   "metadata": {
    "colab": {
     "base_uri": "https://localhost:8080/",
     "height": 265
    },
    "id": "S0ciQ667s9Ly",
    "outputId": "1a2692fe-ebe2-4ad3-9fbc-4360d08a6f51"
   },
   "outputs": [],
   "source": [
    "plt.plot(hist.history['mae'])\n",
    "plt.plot(hist.history['val_mae'])\n",
    "plt.show()"
   ]
  },
  {
   "cell_type": "code",
   "execution_count": null,
   "metadata": {
    "colab": {
     "base_uri": "https://localhost:8080/"
    },
    "id": "QRpdclBus9Ly",
    "outputId": "bd898e24-c367-4142-bd0b-87ba6621b752"
   },
   "outputs": [],
   "source": [
    "df_test_normalized_reshaped_pred = model.predict(df_test_normalized_reshaped).flatten() \n"
   ]
  },
  {
   "cell_type": "code",
   "execution_count": null,
   "metadata": {
    "colab": {
     "base_uri": "https://localhost:8080/",
     "height": 279
    },
    "id": "9CCTes7as9Ly",
    "outputId": "4df8edd0-ae99-4aac-8554-e3f9f6c18912"
   },
   "outputs": [],
   "source": [
    "plt.scatter(test_labels , df_test_normalized_reshaped_pred )\n",
    "plt.xlabel('True Values [Y]')\n",
    "plt.ylabel('Predictions [Y]')\n",
    "plt.axis('equal')\n",
    "plt.axis('square')\n",
    "plt.xlim([0,plt.xlim()[1]])\n",
    "plt.ylim([0,plt.ylim()[1]])\n",
    "_ = plt.plot([-400, 400], [-400, 400], color='black')"
   ]
  },
  {
   "cell_type": "code",
   "execution_count": null,
   "metadata": {
    "colab": {
     "base_uri": "https://localhost:8080/",
     "height": 279
    },
    "id": "p9pCAXmZs9Ly",
    "outputId": "f70cfdd0-e288-4480-febe-819f332f2ec9"
   },
   "outputs": [],
   "source": [
    "error = np.array(df_test_normalized_reshaped_pred) - np.array(test_labels)\n",
    "plt.hist(error, bins = 25)\n",
    "plt.xlabel(\"Prediction Error [Y]\")\n",
    "_ = plt.ylabel(\"Count\")"
   ]
  },
  {
   "cell_type": "markdown",
   "metadata": {},
   "source": [
    "# end of jupyter part1\n",
    "### Navigation  |[Part1-reg](part1_LR.ipynb) |  [Part2-MLP](part2_MLP.ipynb) |  [Part3-CNN](part3_CNN.ipynb) |  [Part4-ResNet](part4_resnet.ipynb) | [Part5-MLP Mixer](part5_Mixer.ipynb) |"
   ]
  },
  {
   "cell_type": "markdown",
   "metadata": {
    "id": "F0KVe0-hmWNj"
   },
   "source": [
    "\n",
    "<img src=\"https://www.nvidia.com/content/dam/en-zz/Solutions/about-nvidia/logo-and-brand/01-nvidia-logo-horiz-500x200-2c50-d@2x.png\" width=300>"
   ]
  }
 ],
 "metadata": {
  "accelerator": "GPU",
  "colab": {
   "provenance": []
  },
  "gpuClass": "standard",
  "kernelspec": {
   "display_name": "Python 3 (ipykernel)",
   "language": "python",
   "name": "python3"
  },
  "language_info": {
   "codemirror_mode": {
    "name": "ipython",
    "version": 3
   },
   "file_extension": ".py",
   "mimetype": "text/x-python",
   "name": "python",
   "nbconvert_exporter": "python",
   "pygments_lexer": "ipython3",
   "version": "3.8.10"
  }
 },
 "nbformat": 4,
 "nbformat_minor": 4
}
