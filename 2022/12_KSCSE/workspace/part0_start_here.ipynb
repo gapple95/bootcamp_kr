{
 "cells": [
  {
   "cell_type": "markdown",
   "id": "32777103",
   "metadata": {},
   "source": [
    " <img src=\"https://www.nvidia.com/content/dam/en-zz/Solutions/about-nvidia/logo-and-brand/01-nvidia-logo-horiz-500x200-2c50-d@2x.png\" width=300>\n",
    "\n",
    " \n",
    "# 계산과학공학회 인공지능 겨울학교 2022\n",
    "# [KSCSE](http://www.cse.or.kr/) 2022  GPU Tutorial  @ High1\n",
    "# Day1 - Introducion to AI \n",
    "by Hyungon Ryu | NVAITC(NVIDIA AI Tech. Center)  Korea \n"
   ]
  },
  {
   "cell_type": "markdown",
   "id": "9e35ac01",
   "metadata": {},
   "source": [
    "![](http://www.cse.or.kr/assets/img/logo_cse.png)"
   ]
  },
  {
   "cell_type": "markdown",
   "id": "cb92eeea",
   "metadata": {},
   "source": [
    "## contents \n",
    " - [Part 1 - Linear regression](part1_LR.ipynb)\n",
    " - [Part 2 - MLP model ](part2_MLP.ipynb)\n",
    " - [Part 3 - CNN model ](part3_CNN.ipynb)\n",
    " - [Part 4 - ResNet model ](part4_resnet.ipynb)\n",
    " - [Part 5 - MLP Mixer model ](part5_Mixer.ipynb)\n",
    "\n"
   ]
  },
  {
   "cell_type": "markdown",
   "id": "98ff597c",
   "metadata": {},
   "source": [
    "### Navigation  |[Part1-reg](part1_LR.ipynb) |  [Part2-MLP](part2_MLP.ipynb) |  [Part3-CNN](part3_CNN.ipynb) |  [Part4-ResNet] part4_resnet.ipynb) | [Part5-MLP Mixer](part5_Mixer.ipynb) |"
   ]
  }
 ],
 "metadata": {
  "kernelspec": {
   "display_name": "Python 3 (ipykernel)",
   "language": "python",
   "name": "python3"
  },
  "language_info": {
   "codemirror_mode": {
    "name": "ipython",
    "version": 3
   },
   "file_extension": ".py",
   "mimetype": "text/x-python",
   "name": "python",
   "nbconvert_exporter": "python",
   "pygments_lexer": "ipython3",
   "version": "3.8.10"
  }
 },
 "nbformat": 4,
 "nbformat_minor": 5
}
